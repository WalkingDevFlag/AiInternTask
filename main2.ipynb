{
 "cells": [
  {
   "cell_type": "code",
   "execution_count": 1,
   "id": "ef5f60d3-0714-48c9-936c-c5f8e163ae40",
   "metadata": {},
   "outputs": [],
   "source": [
    "from pdf import PDFProcessor\n",
    "import pymongo"
   ]
  },
  {
   "cell_type": "code",
   "execution_count": 2,
   "id": "07da50f1-04ee-447c-b4f4-f1a8b10cae87",
   "metadata": {},
   "outputs": [],
   "source": [
    "\n",
    "def main():\n",
    "    # Configuration\n",
    "    folder_path = r\"E:/Random Python Scripts/wasserstoff/Dataset\"  # Replace with the path to your folder\n",
    "    json_output_path = \"pdf_metadata.json\"\n",
    "    \n",
    "    mongo_client = pymongo.MongoClient(\"mongodb://localhost:27017/\")  # Change this if needed\n",
    "    db_name = \"pdf_database\"  \n",
    "    collection_name = \"pdf_metadata\" \n",
    "\n",
    "    # Create a PDFProcessor instance\n",
    "    pdf_processor = PDFProcessor(mongo_client, db_name, collection_name)\n",
    "    pdf_processor.ingest_pdfs(folder_path)\n",
    "    pdf_processor.save_to_json(json_output_path)"
   ]
  },
  {
   "cell_type": "code",
   "execution_count": 3,
   "id": "450b65f4-5074-43ad-ae71-e5317292a978",
   "metadata": {},
   "outputs": [
    {
     "name": "stdout",
     "output_type": "stream",
     "text": [
      "Successfully processed 'pdf1.pdf'.\n",
      "Successfully processed 'pdf10.pdf'.\n",
      "Successfully processed 'pdf11.pdf'.\n",
      "Successfully processed 'pdf12.pdf'.\n",
      "Successfully processed 'pdf13.pdf'.\n",
      "Successfully processed 'pdf14.pdf'.\n",
      "Successfully processed 'pdf15.pdf'.\n",
      "Successfully processed 'pdf16.pdf'.\n",
      "Successfully processed 'pdf17.pdf'.\n",
      "Successfully processed 'pdf18.pdf'.\n",
      "Successfully processed 'pdf2.pdf'.\n",
      "Successfully processed 'pdf3.pdf'.\n",
      "Successfully processed 'pdf4.pdf'.\n",
      "Successfully processed 'pdf5.pdf'.\n",
      "Successfully processed 'pdf6.pdf'.\n",
      "Successfully processed 'pdf7.pdf'.\n",
      "Successfully processed 'pdf8.pdf'.\n",
      "Successfully processed 'pdf9.pdf'.\n",
      "Metadata saved to 'pdf_metadata.json'.\n"
     ]
    }
   ],
   "source": [
    "if __name__ == \"__main__\":\n",
    "    main()"
   ]
  },
  {
   "cell_type": "code",
   "execution_count": 5,
   "id": "516b65a6-95d9-4cc5-b100-8f7413d0309d",
   "metadata": {},
   "outputs": [
    {
     "data": {
      "text/plain": [
       "'\\nLEGEND\\n\\nfrom pymongo import MongoClient\\n\\n# Connect to MongoDB\\nclient = MongoClient(\\'mongodb://localhost:27017/\\')  # Adjust the URI as needed\\ndb = client[\\'pdf_database\\']  # Replace with your database name\\ncollection = db[\\'pdf_metadata\\']  # Replace with your collection name\\n\\n# Retrieve and print all documents\\ndocuments = collection.find()\\nfor doc in documents:\\n    print(doc)\\n\\n# Optionally, to find a specific document, you can add a query\\n# result = collection.find_one({\"document_name\": \"pdf1.pdf\"})\\n# print(result)\\n'"
      ]
     },
     "execution_count": 5,
     "metadata": {},
     "output_type": "execute_result"
    }
   ],
   "source": [
    "'''\n",
    "LEGEND\n",
    "\n",
    "from pymongo import MongoClient\n",
    "\n",
    "# Connect to MongoDB\n",
    "client = MongoClient('mongodb://localhost:27017/')  # Adjust the URI as needed\n",
    "db = client['pdf_database']  # Replace with your database name\n",
    "collection = db['pdf_metadata']  # Replace with your collection name\n",
    "\n",
    "# Retrieve and print all documents\n",
    "documents = collection.find()\n",
    "for doc in documents:\n",
    "    print(doc)\n",
    "\n",
    "# Optionally, to find a specific document, you can add a query\n",
    "# result = collection.find_one({\"document_name\": \"pdf1.pdf\"})\n",
    "# print(result)\n",
    "'''"
   ]
  }
 ],
 "metadata": {
  "kernelspec": {
   "display_name": "w",
   "language": "python",
   "name": "w"
  },
  "language_info": {
   "codemirror_mode": {
    "name": "ipython",
    "version": 3
   },
   "file_extension": ".py",
   "mimetype": "text/x-python",
   "name": "python",
   "nbconvert_exporter": "python",
   "pygments_lexer": "ipython3",
   "version": "3.9.20"
  }
 },
 "nbformat": 4,
 "nbformat_minor": 5
}
