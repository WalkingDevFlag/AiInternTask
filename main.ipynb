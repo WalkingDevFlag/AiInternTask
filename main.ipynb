{
 "cells": [
  {
   "cell_type": "code",
   "execution_count": 1,
   "id": "10cb2fc6-c58f-4e48-9b5d-2b4f0b16c999",
   "metadata": {},
   "outputs": [
    {
     "name": "stderr",
     "output_type": "stream",
     "text": [
      "[nltk_data] Downloading package punkt to\n",
      "[nltk_data]     C:\\Users\\Siddharth\\AppData\\Roaming\\nltk_data...\n",
      "[nltk_data]   Package punkt is already up-to-date!\n"
     ]
    }
   ],
   "source": [
    "import os\n",
    "import json\n",
    "from pymongo import MongoClient\n",
    "from download import Download\n",
    "from pdf import PDFProcessor\n",
    "from summarizer import summarizer"
   ]
  },
  {
   "cell_type": "code",
   "execution_count": 2,
   "id": "3eb2fd21-9379-42de-98bb-f92231338a6f",
   "metadata": {},
   "outputs": [],
   "source": [
    "# MongoDB setup\n",
    "client = MongoClient('mongodb://localhost:27017/')\n",
    "db = client['PDFScratcher']\n",
    "metadata_collection = db['PDF_Metadata']\n",
    "summaries_collection = db['Summaries']\n",
    "\n",
    "# Paths\n",
    "json_path = r\"E://GitHub//AI-Internship-Task//Dataset.json\"          # JSON file containing PDF links\n",
    "download_dir = r\"E:/Random Python Scripts/wasserstoff/Dataset\"           # Directory to store downloaded PDFs\n",
    "output_metadata_json = \"metadata.json\"  # JSON file for storing metadata\n",
    "output_summaries_json = \"summaries.json\" # JSON file for storing summaries"
   ]
  },
  {
   "cell_type": "code",
   "execution_count": 3,
   "id": "1504cbff-0196-4f06-b7f7-0213d293a21b",
   "metadata": {},
   "outputs": [],
   "source": [
    "# Download PDFs\n",
    "def download_pdfs():\n",
    "    print(\"Starting PDF download process...\")\n",
    "    downloader = Download(json_path, download_dir)\n",
    "    downloader.download_pdfs()\n",
    "    print(\"All PDFs downloaded successfully.\")\n",
    "\n",
    "# Process PDFs to extract metadata and store in MongoDB and JSON\n",
    "def process_and_store_metadata():\n",
    "    print(\"Processing PDFs for metadata...\")\n",
    "    processor = PDFProcessor(client, 'PDFScratcher', 'PDF_Metadata')\n",
    "    processor.ingest_pdfs(download_dir)\n",
    "\n",
    "    # Save metadata to JSON\n",
    "    processor.save_to_json(output_metadata_json)\n",
    "    print(f\"Metadata saved to JSON: {output_metadata_json}\")\n",
    "\n",
    "# Process PDFs to generate summaries and extract keywords\n",
    "def process_summaries():\n",
    "    print(\"Generating summaries and keywords...\")\n",
    "    summarizer.process_pdfs_in_directory(download_dir)\n",
    "\n",
    "    # Retrieve summaries from MongoDB and save to JSON\n",
    "    documents = list(summaries_collection.find({}, {\"_id\": 0}))\n",
    "    with open(output_summaries_json, 'w') as f:\n",
    "        json.dump(documents, f, indent=4)\n",
    "    print(f\"Summaries and keywords saved to JSON: {output_summaries_json}\")"
   ]
  },
  {
   "cell_type": "code",
   "execution_count": 4,
   "id": "984f9482-cc12-450a-a5db-23624d68eef0",
   "metadata": {},
   "outputs": [],
   "source": [
    "# Main function to orchestrate the tasks\n",
    "def main():\n",
    "    download_pdfs()\n",
    "    process_and_store_metadata()\n",
    "    process_summaries()\n",
    "    print(\"All tasks completed successfully.\")"
   ]
  },
  {
   "cell_type": "code",
   "execution_count": 5,
   "id": "0cc4b7e0-196a-4bd9-8d49-4323dc0aaa60",
   "metadata": {},
   "outputs": [
    {
     "name": "stdout",
     "output_type": "stream",
     "text": [
      "Starting PDF download process...\n"
     ]
    },
    {
     "name": "stderr",
     "output_type": "stream",
     "text": [
      "C:\\Users\\Siddharth\\anaconda3\\envs\\w\\lib\\site-packages\\urllib3\\connectionpool.py:1099: InsecureRequestWarning: Unverified HTTPS request is being made to host 'digiscr.sci.gov.in'. Adding certificate verification is strongly advised. See: https://urllib3.readthedocs.io/en/latest/advanced-usage.html#tls-warnings\n",
      "  warnings.warn(\n"
     ]
    },
    {
     "name": "stdout",
     "output_type": "stream",
     "text": [
      "Downloaded: pdf1.pdf\n"
     ]
    },
    {
     "name": "stderr",
     "output_type": "stream",
     "text": [
      "C:\\Users\\Siddharth\\anaconda3\\envs\\w\\lib\\site-packages\\urllib3\\connectionpool.py:1099: InsecureRequestWarning: Unverified HTTPS request is being made to host 'digiscr.sci.gov.in'. Adding certificate verification is strongly advised. See: https://urllib3.readthedocs.io/en/latest/advanced-usage.html#tls-warnings\n",
      "  warnings.warn(\n"
     ]
    },
    {
     "name": "stdout",
     "output_type": "stream",
     "text": [
      "Downloaded: pdf2.pdf\n"
     ]
    },
    {
     "name": "stderr",
     "output_type": "stream",
     "text": [
      "C:\\Users\\Siddharth\\anaconda3\\envs\\w\\lib\\site-packages\\urllib3\\connectionpool.py:1099: InsecureRequestWarning: Unverified HTTPS request is being made to host 'cdnbbsr.s3waas.gov.in'. Adding certificate verification is strongly advised. See: https://urllib3.readthedocs.io/en/latest/advanced-usage.html#tls-warnings\n",
      "  warnings.warn(\n"
     ]
    },
    {
     "name": "stdout",
     "output_type": "stream",
     "text": [
      "Downloaded: pdf3.pdf\n"
     ]
    },
    {
     "name": "stderr",
     "output_type": "stream",
     "text": [
      "C:\\Users\\Siddharth\\anaconda3\\envs\\w\\lib\\site-packages\\urllib3\\connectionpool.py:1099: InsecureRequestWarning: Unverified HTTPS request is being made to host 'www.mha.gov.in'. Adding certificate verification is strongly advised. See: https://urllib3.readthedocs.io/en/latest/advanced-usage.html#tls-warnings\n",
      "  warnings.warn(\n"
     ]
    },
    {
     "name": "stdout",
     "output_type": "stream",
     "text": [
      "Downloaded: pdf4.pdf\n"
     ]
    },
    {
     "name": "stderr",
     "output_type": "stream",
     "text": [
      "C:\\Users\\Siddharth\\anaconda3\\envs\\w\\lib\\site-packages\\urllib3\\connectionpool.py:1099: InsecureRequestWarning: Unverified HTTPS request is being made to host 'rbidocs.rbi.org.in'. Adding certificate verification is strongly advised. See: https://urllib3.readthedocs.io/en/latest/advanced-usage.html#tls-warnings\n",
      "  warnings.warn(\n"
     ]
    },
    {
     "name": "stdout",
     "output_type": "stream",
     "text": [
      "Downloaded: pdf5.pdf\n"
     ]
    },
    {
     "name": "stderr",
     "output_type": "stream",
     "text": [
      "C:\\Users\\Siddharth\\anaconda3\\envs\\w\\lib\\site-packages\\urllib3\\connectionpool.py:1099: InsecureRequestWarning: Unverified HTTPS request is being made to host 'digiscr.sci.gov.in'. Adding certificate verification is strongly advised. See: https://urllib3.readthedocs.io/en/latest/advanced-usage.html#tls-warnings\n",
      "  warnings.warn(\n"
     ]
    },
    {
     "name": "stdout",
     "output_type": "stream",
     "text": [
      "Downloaded: pdf6.pdf\n"
     ]
    },
    {
     "name": "stderr",
     "output_type": "stream",
     "text": [
      "C:\\Users\\Siddharth\\anaconda3\\envs\\w\\lib\\site-packages\\urllib3\\connectionpool.py:1099: InsecureRequestWarning: Unverified HTTPS request is being made to host 'digiscr.sci.gov.in'. Adding certificate verification is strongly advised. See: https://urllib3.readthedocs.io/en/latest/advanced-usage.html#tls-warnings\n",
      "  warnings.warn(\n"
     ]
    },
    {
     "name": "stdout",
     "output_type": "stream",
     "text": [
      "Downloaded: pdf7.pdf\n"
     ]
    },
    {
     "name": "stderr",
     "output_type": "stream",
     "text": [
      "C:\\Users\\Siddharth\\anaconda3\\envs\\w\\lib\\site-packages\\urllib3\\connectionpool.py:1099: InsecureRequestWarning: Unverified HTTPS request is being made to host 'digiscr.sci.gov.in'. Adding certificate verification is strongly advised. See: https://urllib3.readthedocs.io/en/latest/advanced-usage.html#tls-warnings\n",
      "  warnings.warn(\n"
     ]
    },
    {
     "name": "stdout",
     "output_type": "stream",
     "text": [
      "Downloaded: pdf8.pdf\n"
     ]
    },
    {
     "name": "stderr",
     "output_type": "stream",
     "text": [
      "C:\\Users\\Siddharth\\anaconda3\\envs\\w\\lib\\site-packages\\urllib3\\connectionpool.py:1099: InsecureRequestWarning: Unverified HTTPS request is being made to host 'digiscr.sci.gov.in'. Adding certificate verification is strongly advised. See: https://urllib3.readthedocs.io/en/latest/advanced-usage.html#tls-warnings\n",
      "  warnings.warn(\n"
     ]
    },
    {
     "name": "stdout",
     "output_type": "stream",
     "text": [
      "Downloaded: pdf9.pdf\n"
     ]
    },
    {
     "name": "stderr",
     "output_type": "stream",
     "text": [
      "C:\\Users\\Siddharth\\anaconda3\\envs\\w\\lib\\site-packages\\urllib3\\connectionpool.py:1099: InsecureRequestWarning: Unverified HTTPS request is being made to host 'digiscr.sci.gov.in'. Adding certificate verification is strongly advised. See: https://urllib3.readthedocs.io/en/latest/advanced-usage.html#tls-warnings\n",
      "  warnings.warn(\n"
     ]
    },
    {
     "name": "stdout",
     "output_type": "stream",
     "text": [
      "Downloaded: pdf10.pdf\n"
     ]
    },
    {
     "name": "stderr",
     "output_type": "stream",
     "text": [
      "C:\\Users\\Siddharth\\anaconda3\\envs\\w\\lib\\site-packages\\urllib3\\connectionpool.py:1099: InsecureRequestWarning: Unverified HTTPS request is being made to host 'digiscr.sci.gov.in'. Adding certificate verification is strongly advised. See: https://urllib3.readthedocs.io/en/latest/advanced-usage.html#tls-warnings\n",
      "  warnings.warn(\n"
     ]
    },
    {
     "name": "stdout",
     "output_type": "stream",
     "text": [
      "Downloaded: pdf11.pdf\n"
     ]
    },
    {
     "name": "stderr",
     "output_type": "stream",
     "text": [
      "C:\\Users\\Siddharth\\anaconda3\\envs\\w\\lib\\site-packages\\urllib3\\connectionpool.py:1099: InsecureRequestWarning: Unverified HTTPS request is being made to host 'digiscr.sci.gov.in'. Adding certificate verification is strongly advised. See: https://urllib3.readthedocs.io/en/latest/advanced-usage.html#tls-warnings\n",
      "  warnings.warn(\n"
     ]
    },
    {
     "name": "stdout",
     "output_type": "stream",
     "text": [
      "Downloaded: pdf12.pdf\n"
     ]
    },
    {
     "name": "stderr",
     "output_type": "stream",
     "text": [
      "C:\\Users\\Siddharth\\anaconda3\\envs\\w\\lib\\site-packages\\urllib3\\connectionpool.py:1099: InsecureRequestWarning: Unverified HTTPS request is being made to host 'digiscr.sci.gov.in'. Adding certificate verification is strongly advised. See: https://urllib3.readthedocs.io/en/latest/advanced-usage.html#tls-warnings\n",
      "  warnings.warn(\n"
     ]
    },
    {
     "name": "stdout",
     "output_type": "stream",
     "text": [
      "Downloaded: pdf13.pdf\n"
     ]
    },
    {
     "name": "stderr",
     "output_type": "stream",
     "text": [
      "C:\\Users\\Siddharth\\anaconda3\\envs\\w\\lib\\site-packages\\urllib3\\connectionpool.py:1099: InsecureRequestWarning: Unverified HTTPS request is being made to host 'digiscr.sci.gov.in'. Adding certificate verification is strongly advised. See: https://urllib3.readthedocs.io/en/latest/advanced-usage.html#tls-warnings\n",
      "  warnings.warn(\n"
     ]
    },
    {
     "name": "stdout",
     "output_type": "stream",
     "text": [
      "Downloaded: pdf14.pdf\n"
     ]
    },
    {
     "name": "stderr",
     "output_type": "stream",
     "text": [
      "C:\\Users\\Siddharth\\anaconda3\\envs\\w\\lib\\site-packages\\urllib3\\connectionpool.py:1099: InsecureRequestWarning: Unverified HTTPS request is being made to host 'digiscr.sci.gov.in'. Adding certificate verification is strongly advised. See: https://urllib3.readthedocs.io/en/latest/advanced-usage.html#tls-warnings\n",
      "  warnings.warn(\n"
     ]
    },
    {
     "name": "stdout",
     "output_type": "stream",
     "text": [
      "Downloaded: pdf15.pdf\n"
     ]
    },
    {
     "name": "stderr",
     "output_type": "stream",
     "text": [
      "C:\\Users\\Siddharth\\anaconda3\\envs\\w\\lib\\site-packages\\urllib3\\connectionpool.py:1099: InsecureRequestWarning: Unverified HTTPS request is being made to host 'www.sebi.gov.in'. Adding certificate verification is strongly advised. See: https://urllib3.readthedocs.io/en/latest/advanced-usage.html#tls-warnings\n",
      "  warnings.warn(\n"
     ]
    },
    {
     "name": "stdout",
     "output_type": "stream",
     "text": [
      "Downloaded: pdf16.pdf\n"
     ]
    },
    {
     "name": "stderr",
     "output_type": "stream",
     "text": [
      "C:\\Users\\Siddharth\\anaconda3\\envs\\w\\lib\\site-packages\\urllib3\\connectionpool.py:1099: InsecureRequestWarning: Unverified HTTPS request is being made to host 'ijtr.nic.in'. Adding certificate verification is strongly advised. See: https://urllib3.readthedocs.io/en/latest/advanced-usage.html#tls-warnings\n",
      "  warnings.warn(\n"
     ]
    },
    {
     "name": "stdout",
     "output_type": "stream",
     "text": [
      "Downloaded: pdf17.pdf\n"
     ]
    },
    {
     "name": "stderr",
     "output_type": "stream",
     "text": [
      "C:\\Users\\Siddharth\\anaconda3\\envs\\w\\lib\\site-packages\\urllib3\\connectionpool.py:1099: InsecureRequestWarning: Unverified HTTPS request is being made to host 'enforcementdirectorate.gov.in'. Adding certificate verification is strongly advised. See: https://urllib3.readthedocs.io/en/latest/advanced-usage.html#tls-warnings\n",
      "  warnings.warn(\n"
     ]
    },
    {
     "name": "stdout",
     "output_type": "stream",
     "text": [
      "Downloaded: pdf18.pdf\n",
      "All PDFs downloaded successfully.\n",
      "Processing PDFs for metadata...\n",
      "Successfully processed 'pdf1.pdf'.\n",
      "Successfully processed 'pdf10.pdf'.\n",
      "Successfully processed 'pdf11.pdf'.\n",
      "Successfully processed 'pdf12.pdf'.\n",
      "Successfully processed 'pdf13.pdf'.\n",
      "Successfully processed 'pdf14.pdf'.\n",
      "Successfully processed 'pdf15.pdf'.\n",
      "Successfully processed 'pdf16.pdf'.\n",
      "Successfully processed 'pdf17.pdf'.\n",
      "Successfully processed 'pdf18.pdf'.\n",
      "Successfully processed 'pdf2.pdf'.\n",
      "Successfully processed 'pdf3.pdf'.\n",
      "Successfully processed 'pdf4.pdf'.\n",
      "Successfully processed 'pdf5.pdf'.\n",
      "Successfully processed 'pdf6.pdf'.\n",
      "Successfully processed 'pdf7.pdf'.\n",
      "Successfully processed 'pdf8.pdf'.\n",
      "Successfully processed 'pdf9.pdf'.\n",
      "Metadata saved to 'metadata.json'.\n",
      "Metadata saved to JSON: metadata.json\n",
      "Generating summaries and keywords...\n",
      "Reading PDF files from directory: E:/Random Python Scripts/wasserstoff/Dataset\n",
      "Processing PDF: E:/Random Python Scripts/wasserstoff/Dataset\\pdf1.pdf\n",
      "Extracting text from: E:/Random Python Scripts/wasserstoff/Dataset\\pdf1.pdf\n",
      "Processing PDF: E:/Random Python Scripts/wasserstoff/Dataset\\pdf10.pdf\n",
      "Extracting text from: E:/Random Python Scripts/wasserstoff/Dataset\\pdf10.pdf\n",
      "Processing PDF: E:/Random Python Scripts/wasserstoff/Dataset\\pdf11.pdf\n",
      "Extracting text from: E:/Random Python Scripts/wasserstoff/Dataset\\pdf11.pdf\n",
      "Processing PDF: E:/Random Python Scripts/wasserstoff/Dataset\\pdf12.pdf\n",
      "Extracting text from: E:/Random Python Scripts/wasserstoff/Dataset\\pdf12.pdf\n",
      "Processing PDF: E:/Random Python Scripts/wasserstoff/Dataset\\pdf13.pdf\n",
      "Extracting text from: E:/Random Python Scripts/wasserstoff/Dataset\\pdf13.pdf\n",
      "Generating summary...\n",
      "Generating summary...\n",
      "Extracting keywords...\n",
      "Generating summary...\n",
      "Storing summary and keywords for: E:/Random Python Scripts/wasserstoff/Dataset\\pdf12.pdf\n",
      "Generating summary...\n",
      "Successfully processed: E:/Random Python Scripts/wasserstoff/Dataset\\pdf12.pdf\n",
      "Processing PDF: E:/Random Python Scripts/wasserstoff/Dataset\\pdf14.pdf\n",
      "Extracting text from: E:/Random Python Scripts/wasserstoff/Dataset\\pdf14.pdf\n",
      "Extracting keywords...\n",
      "Storing summary and keywords for: E:/Random Python Scripts/wasserstoff/Dataset\\pdf1.pdf\n",
      "Successfully processed: E:/Random Python Scripts/wasserstoff/Dataset\\pdf1.pdf\n",
      "Processing PDF: E:/Random Python Scripts/wasserstoff/Dataset\\pdf15.pdf\n",
      "Extracting text from: E:/Random Python Scripts/wasserstoff/Dataset\\pdf15.pdf\n",
      "Extracting keywords...\n",
      "Storing summary and keywords for: E:/Random Python Scripts/wasserstoff/Dataset\\pdf11.pdf\n",
      "Extracting keywords...\n",
      "Successfully processed: E:/Random Python Scripts/wasserstoff/Dataset\\pdf11.pdf\n",
      "Processing PDF: E:/Random Python Scripts/wasserstoff/Dataset\\pdf16.pdf\n",
      "Extracting text from: E:/Random Python Scripts/wasserstoff/Dataset\\pdf16.pdf\n",
      "Storing summary and keywords for: E:/Random Python Scripts/wasserstoff/Dataset\\pdf13.pdf\n",
      "Successfully processed: E:/Random Python Scripts/wasserstoff/Dataset\\pdf13.pdf\n",
      "Processing PDF: E:/Random Python Scripts/wasserstoff/Dataset\\pdf17.pdf\n",
      "Extracting text from: E:/Random Python Scripts/wasserstoff/Dataset\\pdf17.pdf\n",
      "Generating summary...\n",
      "Extracting keywords...\n",
      "Storing summary and keywords for: E:/Random Python Scripts/wasserstoff/Dataset\\pdf14.pdf\n",
      "Successfully processed: E:/Random Python Scripts/wasserstoff/Dataset\\pdf14.pdf\n",
      "Processing PDF: E:/Random Python Scripts/wasserstoff/Dataset\\pdf18.pdf\n",
      "Extracting text from: E:/Random Python Scripts/wasserstoff/Dataset\\pdf18.pdf\n",
      "Generating summary...\n",
      "Extracting keywords...\n",
      "Storing summary and keywords for: E:/Random Python Scripts/wasserstoff/Dataset\\pdf15.pdf\n",
      "Successfully processed: E:/Random Python Scripts/wasserstoff/Dataset\\pdf15.pdf\n",
      "Processing PDF: E:/Random Python Scripts/wasserstoff/Dataset\\pdf2.pdf\n",
      "Extracting text from: E:/Random Python Scripts/wasserstoff/Dataset\\pdf2.pdf\n",
      "Generating summary...\n",
      "Generating summary...\n",
      "Extracting keywords...\n",
      "Storing summary and keywords for: E:/Random Python Scripts/wasserstoff/Dataset\\pdf18.pdf\n",
      "Successfully processed: E:/Random Python Scripts/wasserstoff/Dataset\\pdf18.pdf\n",
      "Processing PDF: E:/Random Python Scripts/wasserstoff/Dataset\\pdf3.pdf\n",
      "Extracting text from: E:/Random Python Scripts/wasserstoff/Dataset\\pdf3.pdf\n"
     ]
    },
    {
     "name": "stderr",
     "output_type": "stream",
     "text": [
      "C:\\Users\\Siddharth\\anaconda3\\envs\\w\\lib\\site-packages\\sumy\\summarizers\\lsa.py:76: UserWarning: Number of words (1021) is lower than number of sentences (1496). LSA algorithm may not work properly.\n",
      "  warn(message % (words_count, sentences_count))\n"
     ]
    },
    {
     "name": "stdout",
     "output_type": "stream",
     "text": [
      "Generating summary...\n",
      "Extracting keywords...\n",
      "Storing summary and keywords for: E:/Random Python Scripts/wasserstoff/Dataset\\pdf16.pdf\n",
      "Successfully processed: E:/Random Python Scripts/wasserstoff/Dataset\\pdf16.pdf\n",
      "Processing PDF: E:/Random Python Scripts/wasserstoff/Dataset\\pdf4.pdf\n",
      "Extracting text from: E:/Random Python Scripts/wasserstoff/Dataset\\pdf4.pdf\n",
      "Generating summary...\n",
      "Extracting keywords...\n",
      "Storing summary and keywords for: E:/Random Python Scripts/wasserstoff/Dataset\\pdf10.pdf\n",
      "Successfully processed: E:/Random Python Scripts/wasserstoff/Dataset\\pdf10.pdf\n",
      "Processing PDF: E:/Random Python Scripts/wasserstoff/Dataset\\pdf5.pdf\n",
      "Extracting text from: E:/Random Python Scripts/wasserstoff/Dataset\\pdf5.pdf\n",
      "Generating summary...\n",
      "Extracting keywords...\n",
      "Storing summary and keywords for: E:/Random Python Scripts/wasserstoff/Dataset\\pdf5.pdf\n",
      "Successfully processed: E:/Random Python Scripts/wasserstoff/Dataset\\pdf5.pdf\n",
      "Processing PDF: E:/Random Python Scripts/wasserstoff/Dataset\\pdf6.pdf\n",
      "Extracting text from: E:/Random Python Scripts/wasserstoff/Dataset\\pdf6.pdf\n",
      "Generating summary...\n",
      "Error processing E:/Random Python Scripts/wasserstoff/Dataset\\pdf6.pdf: SVD did not converge\n",
      "Processing PDF: E:/Random Python Scripts/wasserstoff/Dataset\\pdf7.pdf\n",
      "Extracting text from: E:/Random Python Scripts/wasserstoff/Dataset\\pdf7.pdf\n",
      "Extracting keywords...\n",
      "Storing summary and keywords for: E:/Random Python Scripts/wasserstoff/Dataset\\pdf17.pdf\n",
      "Successfully processed: E:/Random Python Scripts/wasserstoff/Dataset\\pdf17.pdf\n",
      "Processing PDF: E:/Random Python Scripts/wasserstoff/Dataset\\pdf8.pdf\n",
      "Extracting text from: E:/Random Python Scripts/wasserstoff/Dataset\\pdf8.pdf\n",
      "Generating summary...\n",
      "Extracting keywords...\n",
      "Storing summary and keywords for: E:/Random Python Scripts/wasserstoff/Dataset\\pdf7.pdf\n",
      "Successfully processed: E:/Random Python Scripts/wasserstoff/Dataset\\pdf7.pdf\n",
      "Processing PDF: E:/Random Python Scripts/wasserstoff/Dataset\\pdf9.pdf\n",
      "Extracting text from: E:/Random Python Scripts/wasserstoff/Dataset\\pdf9.pdf\n",
      "Generating summary...\n",
      "Extracting keywords...\n",
      "Storing summary and keywords for: E:/Random Python Scripts/wasserstoff/Dataset\\pdf8.pdf\n",
      "Successfully processed: E:/Random Python Scripts/wasserstoff/Dataset\\pdf8.pdf\n",
      "Generating summary...\n",
      "Extracting keywords...\n",
      "Storing summary and keywords for: E:/Random Python Scripts/wasserstoff/Dataset\\pdf9.pdf\n",
      "Successfully processed: E:/Random Python Scripts/wasserstoff/Dataset\\pdf9.pdf\n",
      "Generating summary...\n"
     ]
    },
    {
     "name": "stderr",
     "output_type": "stream",
     "text": [
      "C:\\Users\\Siddharth\\anaconda3\\envs\\w\\lib\\site-packages\\sumy\\summarizers\\lsa.py:76: UserWarning: Number of words (4070) is lower than number of sentences (4520). LSA algorithm may not work properly.\n",
      "  warn(message % (words_count, sentences_count))\n"
     ]
    },
    {
     "name": "stdout",
     "output_type": "stream",
     "text": [
      "Generating summary...\n",
      "Extracting keywords...\n",
      "Storing summary and keywords for: E:/Random Python Scripts/wasserstoff/Dataset\\pdf4.pdf\n",
      "Successfully processed: E:/Random Python Scripts/wasserstoff/Dataset\\pdf4.pdf\n",
      "Generating summary...\n"
     ]
    },
    {
     "name": "stderr",
     "output_type": "stream",
     "text": [
      "C:\\Users\\Siddharth\\anaconda3\\envs\\w\\lib\\site-packages\\sumy\\summarizers\\lsa.py:76: UserWarning: Number of words (4022) is lower than number of sentences (11836). LSA algorithm may not work properly.\n",
      "  warn(message % (words_count, sentences_count))\n"
     ]
    },
    {
     "name": "stdout",
     "output_type": "stream",
     "text": [
      "Extracting keywords...\n",
      "Storing summary and keywords for: E:/Random Python Scripts/wasserstoff/Dataset\\pdf2.pdf\n",
      "Successfully processed: E:/Random Python Scripts/wasserstoff/Dataset\\pdf2.pdf\n",
      "Extracting keywords...\n",
      "Storing summary and keywords for: E:/Random Python Scripts/wasserstoff/Dataset\\pdf3.pdf\n",
      "Successfully processed: E:/Random Python Scripts/wasserstoff/Dataset\\pdf3.pdf\n",
      "Summaries and keywords saved to JSON: summaries.json\n",
      "All tasks completed successfully.\n"
     ]
    }
   ],
   "source": [
    "if __name__ == \"__main__\":\n",
    "    main()"
   ]
  }
 ],
 "metadata": {
  "kernelspec": {
   "display_name": "w",
   "language": "python",
   "name": "w"
  },
  "language_info": {
   "codemirror_mode": {
    "name": "ipython",
    "version": 3
   },
   "file_extension": ".py",
   "mimetype": "text/x-python",
   "name": "python",
   "nbconvert_exporter": "python",
   "pygments_lexer": "ipython3",
   "version": "3.9.20"
  }
 },
 "nbformat": 4,
 "nbformat_minor": 5
}
